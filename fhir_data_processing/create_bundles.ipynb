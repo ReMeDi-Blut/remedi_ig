{
 "cells": [
  {
   "cell_type": "code",
   "execution_count": 2,
   "id": "initial_id",
   "metadata": {
    "collapsed": true,
    "ExecuteTime": {
     "end_time": "2024-02-20T08:27:55.089146Z",
     "start_time": "2024-02-20T08:27:55.084780Z"
    }
   },
   "outputs": [],
   "source": [
    "from dotenv import load_dotenv\n",
    "import os\n",
    "import json\n",
    "from glom import glom\n",
    "load_dotenv()\n",
    "BUNDLE_PATH = os.getenv('BUNDLE_PATH')\n",
    "SPLIT_PATH = os.getenv('SPLIT_PATH')"
   ]
  },
  {
   "cell_type": "code",
   "outputs": [],
   "source": [
    "#load patients\n",
    "PATIENT_PATH = os.path.join(SPLIT_PATH, \"Patient.json\")\n",
    "#Load fhir bundle\n",
    "with open(PATIENT_PATH, 'r') as file:\n",
    "    data = json.load(file)"
   ],
   "metadata": {
    "collapsed": false,
    "ExecuteTime": {
     "end_time": "2024-02-20T08:54:30.953215Z",
     "start_time": "2024-02-20T08:54:30.951102Z"
    }
   },
   "id": "c9ba2dd29bb3809c",
   "execution_count": 20
  },
  {
   "cell_type": "code",
   "outputs": [],
   "source": [
    "bundle = {\n",
    "    \"resourceType\": \"Bundle\",\n",
    "    \"type\": \"batch\",\n",
    "    \"entry\": []\n",
    "}"
   ],
   "metadata": {
    "collapsed": false,
    "ExecuteTime": {
     "end_time": "2024-02-20T08:54:32.089820Z",
     "start_time": "2024-02-20T08:54:32.087238Z"
    }
   },
   "id": "f0fe96115b2177c5",
   "execution_count": 21
  },
  {
   "cell_type": "code",
   "outputs": [],
   "source": [
    "for patient in data:\n",
    "    url = \"Patient/\"+patient[\"resource\"][\"id\"]\n",
    "    bundle[\"entry\"].append({\n",
    "        \"resource\":patient[\"resource\"],\n",
    "        \"request\":{\n",
    "            \"method\": \"PUT\",\n",
    "            \"url\": url\n",
    "        }\n",
    "    })"
   ],
   "metadata": {
    "collapsed": false,
    "ExecuteTime": {
     "end_time": "2024-02-20T08:54:43.466286Z",
     "start_time": "2024-02-20T08:54:43.461768Z"
    }
   },
   "id": "5deb6e48ef37d42",
   "execution_count": 22
  },
  {
   "cell_type": "code",
   "outputs": [],
   "source": [
    "    file_path = os.path.join(BUNDLE_PATH, \"patient.json\")\n",
    "    with open(file_path, 'w') as file:\n",
    "        json.dump(bundle, file, indent=4)"
   ],
   "metadata": {
    "collapsed": false,
    "ExecuteTime": {
     "end_time": "2024-02-20T08:54:52.717975Z",
     "start_time": "2024-02-20T08:54:52.708848Z"
    }
   },
   "id": "6291d9f7df16d296",
   "execution_count": 23
  },
  {
   "cell_type": "code",
   "outputs": [],
   "source": [],
   "metadata": {
    "collapsed": false
   },
   "id": "8b6537b6004b5ced"
  }
 ],
 "metadata": {
  "kernelspec": {
   "display_name": "Python 3",
   "language": "python",
   "name": "python3"
  },
  "language_info": {
   "codemirror_mode": {
    "name": "ipython",
    "version": 2
   },
   "file_extension": ".py",
   "mimetype": "text/x-python",
   "name": "python",
   "nbconvert_exporter": "python",
   "pygments_lexer": "ipython2",
   "version": "2.7.6"
  }
 },
 "nbformat": 4,
 "nbformat_minor": 5
}
