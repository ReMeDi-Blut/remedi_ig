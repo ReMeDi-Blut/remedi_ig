{
 "cells": [
  {
   "cell_type": "code",
   "outputs": [],
   "source": [
    "import requests"
   ],
   "metadata": {
    "collapsed": false,
    "ExecuteTime": {
     "end_time": "2024-03-22T08:39:09.641335Z",
     "start_time": "2024-03-22T08:39:09.583599Z"
    }
   },
   "id": "9d55790455b1701a",
   "execution_count": 2
  },
  {
   "cell_type": "code",
   "execution_count": 3,
   "id": "initial_id",
   "metadata": {
    "collapsed": true,
    "ExecuteTime": {
     "end_time": "2024-03-22T08:39:10.188468Z",
     "start_time": "2024-03-22T08:39:10.185920Z"
    }
   },
   "outputs": [],
   "source": [
    "fhir_endpoint = \"http://localhost:8080/fhir\""
   ]
  },
  {
   "cell_type": "code",
   "outputs": [
    {
     "name": "stdout",
     "output_type": "stream",
     "text": [
      "<Response [400]>\n",
      "http://localhost:8080/fhir/Patient/$export\n"
     ]
    }
   ],
   "source": [
    "kickoff_request_headers = {\n",
    "    'Prefer': 'respond-async',\n",
    "    'Accept': 'application/fhir+json'\n",
    "}\n",
    "kickoff_request_params = {'_type': 'Observation,ExplanationOfBenefit'}\n",
    "kickoff_request_url = fhir_endpoint + '/Patient/$export'\n",
    "kickoff_response = requests.get(kickoff_request_url, params=kickoff_request_params, headers=kickoff_request_headers)\n",
    "print(kickoff_response)\n",
    "print(kickoff_request_url)"
   ],
   "metadata": {
    "collapsed": false,
    "ExecuteTime": {
     "end_time": "2024-03-22T08:40:34.529548Z",
     "start_time": "2024-03-22T08:40:34.497852Z"
    }
   },
   "id": "c9ea4ff95532d873",
   "execution_count": 7
  },
  {
   "cell_type": "code",
   "outputs": [],
   "source": [],
   "metadata": {
    "collapsed": false
   },
   "id": "2d401e12bda01bc0"
  }
 ],
 "metadata": {
  "kernelspec": {
   "display_name": "Python 3",
   "language": "python",
   "name": "python3"
  },
  "language_info": {
   "codemirror_mode": {
    "name": "ipython",
    "version": 2
   },
   "file_extension": ".py",
   "mimetype": "text/x-python",
   "name": "python",
   "nbconvert_exporter": "python",
   "pygments_lexer": "ipython2",
   "version": "2.7.6"
  }
 },
 "nbformat": 4,
 "nbformat_minor": 5
}
