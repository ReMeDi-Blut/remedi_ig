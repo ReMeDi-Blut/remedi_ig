{
 "cells": [
  {
   "cell_type": "code",
   "execution_count": 53,
   "id": "initial_id",
   "metadata": {
    "collapsed": true,
    "ExecuteTime": {
     "end_time": "2024-02-20T13:22:38.598172Z",
     "start_time": "2024-02-20T13:22:38.590946Z"
    }
   },
   "outputs": [],
   "source": [
    "from dotenv import load_dotenv\n",
    "import os\n",
    "import json\n",
    "load_dotenv()\n",
    "FILE_PATH = os.getenv('FILE_PATH')\n",
    "BUNDLE_PATH = os.getenv('BUNDLE_PATH')"
   ]
  },
  {
   "cell_type": "code",
   "outputs": [],
   "source": [
    "with open(FILE_PATH, 'r') as file:\n",
    "    data = json.load(file)"
   ],
   "metadata": {
    "collapsed": false,
    "ExecuteTime": {
     "end_time": "2024-02-20T13:22:38.965344Z",
     "start_time": "2024-02-20T13:22:38.933803Z"
    }
   },
   "id": "f530d966655198",
   "execution_count": 54
  },
  {
   "cell_type": "code",
   "outputs": [],
   "source": [
    "for resource in data['entry']:\n",
    "    url = \"urn:uuid:\"+resource[\"resource\"][\"id\"]\n",
    "    rType = resource[\"resource\"][\"resourceType\"]\n",
    "    id = resource[\"resource\"][\"id\"]\n",
    "    request_url = rType+\"/\"+id\n",
    "    resource[\"fullUrl\"] = url\n",
    "    resource[\"request\"] = {}\n",
    "    resource[\"request\"][\"method\"] = \"PUT\"\n",
    "    resource[\"request\"][\"url\"] = request_url"
   ],
   "metadata": {
    "collapsed": false,
    "ExecuteTime": {
     "end_time": "2024-02-20T13:22:39.290986Z",
     "start_time": "2024-02-20T13:22:39.287604Z"
    }
   },
   "id": "3a1b54a60d9ec641",
   "execution_count": 55
  },
  {
   "cell_type": "code",
   "outputs": [],
   "source": [
    "file_path = os.path.join(BUNDLE_PATH, \"full_bundle.json\")\n",
    "with open(file_path, 'w') as file:\n",
    "        json.dump(data, file, indent=4)"
   ],
   "metadata": {
    "collapsed": false,
    "ExecuteTime": {
     "end_time": "2024-02-20T13:22:39.810025Z",
     "start_time": "2024-02-20T13:22:39.666283Z"
    }
   },
   "id": "714fa1a252371be3",
   "execution_count": 56
  },
  {
   "cell_type": "code",
   "outputs": [],
   "source": [
    "def update_references(obj):\n",
    "    if isinstance(obj, dict):\n",
    "        for key, value in list(obj.items()):\n",
    "            if key == 'reference':  # Anpassen der Logik nach Bedarf\n",
    "                # Aktualisieren Sie hier das reference Feld\n",
    "                i = value.split('/')\n",
    "                ref = \"urn:uuid:\"+ i[1]\n",
    "                obj[key] = ref # Beispiel: Ändern des Werts\n",
    "            else:\n",
    "                # Rekursiver Aufruf, um weiter in der Struktur zu navigieren\n",
    "                update_references(value)\n",
    "    # Prüfen, ob das aktuelle Objekt eine Liste ist\n",
    "    elif isinstance(obj, list):\n",
    "        for item in obj:\n",
    "            # Rekursiver Aufruf für jedes Element in der Liste\n",
    "            update_references(item)\n",
    "            \n",
    "update_references(data)"
   ],
   "metadata": {
    "collapsed": false,
    "ExecuteTime": {
     "end_time": "2024-02-20T13:22:40.056469Z",
     "start_time": "2024-02-20T13:22:40.053587Z"
    }
   },
   "id": "cefae1beebbeabe1",
   "execution_count": 57
  },
  {
   "cell_type": "code",
   "outputs": [],
   "source": [
    "file_path = os.path.join(BUNDLE_PATH, \"full_bundle.json\")\n",
    "with open(file_path, 'w') as file:\n",
    "        json.dump(data, file, indent=4)"
   ],
   "metadata": {
    "collapsed": false,
    "ExecuteTime": {
     "end_time": "2024-02-20T13:22:42.471715Z",
     "start_time": "2024-02-20T13:22:42.312208Z"
    }
   },
   "id": "bfb33e185b7f79c8",
   "execution_count": 58
  },
  {
   "cell_type": "code",
   "outputs": [],
   "source": [],
   "metadata": {
    "collapsed": false
   },
   "id": "3890c3c034893552"
  }
 ],
 "metadata": {
  "kernelspec": {
   "display_name": "Python 3",
   "language": "python",
   "name": "python3"
  },
  "language_info": {
   "codemirror_mode": {
    "name": "ipython",
    "version": 2
   },
   "file_extension": ".py",
   "mimetype": "text/x-python",
   "name": "python",
   "nbconvert_exporter": "python",
   "pygments_lexer": "ipython2",
   "version": "2.7.6"
  }
 },
 "nbformat": 4,
 "nbformat_minor": 5
}
