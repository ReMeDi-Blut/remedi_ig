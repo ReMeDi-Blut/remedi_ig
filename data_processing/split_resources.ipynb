{
 "cells": [
  {
   "cell_type": "raw",
   "source": [],
   "metadata": {
    "collapsed": false
   },
   "id": "1c3837e1d15c07c6"
  },
  {
   "cell_type": "markdown",
   "source": [
    "### Imports and enviroments"
   ],
   "metadata": {
    "collapsed": false
   },
   "id": "6fe8891d4bc20805"
  },
  {
   "cell_type": "code",
   "outputs": [],
   "source": [
    "!pip install glom"
   ],
   "metadata": {
    "collapsed": false
   },
   "id": "55d5405f8d1cfb86",
   "execution_count": null
  },
  {
   "cell_type": "code",
   "outputs": [],
   "source": [
    "from dotenv import load_dotenv\n",
    "import os\n",
    "import json\n",
    "import pandas as pd \n",
    "from glom import glom\n",
    "load_dotenv()\n",
    "BUNDLE_PATH = os.getenv('BUNDLE_PATH')\n",
    "FOLDER_PATH = os.getenv('FOLDER_PATH')"
   ],
   "metadata": {
    "collapsed": false
   },
   "id": "4c8172684ff45319",
   "execution_count": null
  },
  {
   "cell_type": "code",
   "outputs": [],
   "source": [
    "#Load fhir bundle\n",
    "with open(BUNDLE_PATH, 'r') as file:\n",
    "    data = json.load(file)"
   ],
   "metadata": {
    "collapsed": false
   },
   "id": "848a91322e2c5971",
   "execution_count": null
  },
  {
   "cell_type": "code",
   "outputs": [],
   "source": [
    "spec = ('entry', ['resource.resourceType'])\n",
    "resources = glom(data,spec)"
   ],
   "metadata": {
    "collapsed": false
   },
   "id": "e6f5696c2d483f82",
   "execution_count": null
  },
  {
   "cell_type": "code",
   "outputs": [],
   "source": [
    "resources_by_type = {}\n",
    "for ressource in data['entry']:\n",
    "    typ = ressource['resource']['resourceType']\n",
    "    if typ not in resources_by_type:\n",
    "        resources_by_type[typ] = []\n",
    "    resources_by_type[typ].append(ressource)"
   ],
   "metadata": {
    "collapsed": false
   },
   "id": "a386fcff28057839",
   "execution_count": null
  },
  {
   "cell_type": "code",
   "outputs": [],
   "source": [
    "for resource in resources_by_type:\n",
    "    file_path = os.path.join(FOLDER_PATH,\"split\", str(resource)+\".json\")\n",
    "    split_resource = resources_by_type[resource]\n",
    "    with open(file_path, 'w') as file:\n",
    "        json.dump(split_resource, file, indent=4)"
   ],
   "metadata": {
    "collapsed": false
   },
   "id": "17dc1cdec8019e3a",
   "execution_count": null
  },
  {
   "cell_type": "code",
   "outputs": [],
   "source": [],
   "metadata": {
    "collapsed": false
   },
   "id": "cdd93f1806089f1c"
  }
 ],
 "metadata": {
  "kernelspec": {
   "display_name": "Python 3",
   "language": "python",
   "name": "python3"
  },
  "language_info": {
   "codemirror_mode": {
    "name": "ipython",
    "version": 2
   },
   "file_extension": ".py",
   "mimetype": "text/x-python",
   "name": "python",
   "nbconvert_exporter": "python",
   "pygments_lexer": "ipython2",
   "version": "2.7.6"
  }
 },
 "nbformat": 4,
 "nbformat_minor": 5
}
